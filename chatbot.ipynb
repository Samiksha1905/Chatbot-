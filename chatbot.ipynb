{
  "cells": [
    {
      "cell_type": "markdown",
      "metadata": {
        "id": "view-in-github",
        "colab_type": "text"
      },
      "source": [
        "<a href=\"https://colab.research.google.com/github/Samiksha1905/Chatbot-/blob/main/chatbot.ipynb\" target=\"_parent\"><img src=\"https://colab.research.google.com/assets/colab-badge.svg\" alt=\"Open In Colab\"/></a>"
      ]
    },
    {
      "cell_type": "code",
      "execution_count": null,
      "metadata": {
        "id": "rEz11yJ9FGzo"
      },
      "outputs": [],
      "source": [
        "from nltk.chat.util import Chat,reflections\n",
        "#reflections-dictionary file that contains set of input values and corresponding output values.\n",
        "#All the files & statements are in dictionary format that is present defaultly in nltk module."
      ]
    },
    {
      "cell_type": "code",
      "execution_count": null,
      "metadata": {
        "colab": {
          "background_save": true,
          "base_uri": "https://localhost:8080/"
        },
        "id": "orE1pB-z5UIA",
        "outputId": "3a9d9580-34f1-4b9e-b67f-9b8fc1e3de38"
      },
      "outputs": [
        {
          "name": "stdout",
          "output_type": "stream",
          "text": [
            "Hi I am Chatty and I like to chat with people.\n",
            "\n",
            "Hey!😊\n",
            "   What can I do for you today?\n",
            "\n",
            "My name is CHATTY and I'm your python-powered chatbot.\n",
            "\n",
            "I'm doing good. How about you?\n",
            "\n",
            "Sorry, I didn't understand what you said.\n",
            "\n",
            "Nice to hear that, How can I help you?\n",
            "\n",
            "I'm a computer program💻, so I don't have an age.\n",
            "\n",
            "I am from Internet🛜\n",
            ".\n",
            "Bhilai, Chhattisgarh\n",
            ",\n",
            "Never even heard about bhilai.\n",
            "\n",
            "Make me an offer I can't refuse.\n",
            "\n",
            "Bye🙋‍♀️, Take care. See you soon, It was nice talking to you:)\n",
            "\n",
            "Hi I am Chatty and I like to chat with people.\n",
            "\n"
          ]
        }
      ],
      "source": [
        "conversations=[\n",
        "    [\n",
        "        r\"My name is (.*)\",\n",
        "        [\"Hello %1, How are you today?\\n\",]\n",
        "    ],\n",
        "    [\n",
        "        r\"What is your name?\",\n",
        "        [\"My name is CHATTY and I'm your python-powered chatbot.\\n\",]\n",
        "    ],\n",
        "    [\n",
        "        r\"How are you?\",\n",
        "        [\"I'm doing good. How about you?\\n\",]\n",
        "    ],\n",
        "    [\n",
        "        r\"Sorry (.*)\",\n",
        "        [\"It's alright, never mind.\\n\",]\n",
        "    ],\n",
        "    [\n",
        "        r\"I'm Fine\",\n",
        "        [\"Nice to hear that, How can I help you?\\n\",]\n",
        "    ],\n",
        "    [\n",
        "        r\"Hi|Hello|Hey there\",\n",
        "        [ \"👋 Hello there!\\n   How can I assist you today?\\n\",\n",
        "    \"Hi there!\\n   Ready to chat?\\n\",\n",
        "    \"Hey!😊\\n   What can I do for you today?\\n\",]\n",
        "    ],\n",
        "    [\n",
        "        r\"(.*) age?\",\n",
        "        [\"I'm a computer program💻, so I don't have an age.\\n\",]\n",
        "    ],\n",
        "    [\n",
        "        r\"What (.*) want ?\",\n",
        "        [\"Make me an offer I can't refuse.\\n\",]\n",
        "\n",
        "    ],\n",
        "    [\n",
        "        r\"(.*) created?\",\n",
        "        [\"I am from Internet🛜\\n.\",]\n",
        "    ],\n",
        "    [\n",
        "        r\"What is (.*) location?\",\n",
        "        ['Bhilai, Chhattisgarh\\n,']\n",
        "    ],\n",
        "    [\n",
        "        r\"How is the weather in (.*)?\",\n",
        "        [\"Weather in %1 is awesome like always.\\n\",\"Too hot man here in %1.\\n\",\"Too cold man here in %1.\\n\",\"Never even heard about %1.\\n\",]\n",
        "    ],\n",
        "    [\n",
        "        r\"Quit\",\n",
        "        [\"Bye🙋‍♀️, Take care. See you soon, It was nice talking to you:)\\n\",]\n",
        "    ],\n",
        "    [\n",
        "        r\"(.*)\",\n",
        "         [\"Sorry, I didn't understand what you said.\\n\"]\n",
        "    ]\n",
        "]\n",
        "\n",
        "def chatty():\n",
        "  print(\"Hi I am Chatty and I like to chat with people.\\n\")\n",
        "  chat=Chat(conversations,reflections)\n",
        "  chat.converse()\n",
        "chatty()\n",
        "\n",
        "if __name__==\"__main__\":\n",
        "  chatty()\n"
      ]
    },
    {
      "cell_type": "code",
      "execution_count": null,
      "metadata": {
        "id": "IIvrbLCECwGX"
      },
      "outputs": [],
      "source": []
    }
  ],
  "metadata": {
    "colab": {
      "provenance": [],
      "authorship_tag": "ABX9TyPMzxaII3mthfxIkgWd3e5L",
      "include_colab_link": true
    },
    "kernelspec": {
      "display_name": "Python 3",
      "name": "python3"
    },
    "language_info": {
      "name": "python"
    }
  },
  "nbformat": 4,
  "nbformat_minor": 0
}